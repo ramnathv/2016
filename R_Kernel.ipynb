{
  "nbformat": 4,
  "nbformat_minor": 0,
  "metadata": {
    "colab": {
      "name": "R Kernel.ipynb",
      "provenance": [],
      "collapsed_sections": [],
      "include_colab_link": true
    },
    "language_info": {
      "codemirror_mode": "r",
      "file_extension": ".r",
      "mimetype": "text/x-r-source",
      "name": "R",
      "pygments_lexer": "r",
      "version": "3.3.1"
    },
    "kernelspec": {
      "display_name": "R",
      "language": "R",
      "name": "ir"
    }
  },
  "cells": [
    {
      "cell_type": "markdown",
      "metadata": {
        "id": "view-in-github",
        "colab_type": "text"
      },
      "source": [
        "<a href=\"https://colab.research.google.com/github/ramnathv/2016/blob/master/R_Kernel.ipynb\" target=\"_parent\"><img src=\"https://colab.research.google.com/assets/colab-badge.svg\" alt=\"Open In Colab\"/></a>"
      ]
    },
    {
      "cell_type": "code",
      "metadata": {
        "id": "Wmbm2SJic1g8",
        "colab_type": "code",
        "outputId": "3ca0093b-8729-46fd-9d9e-c310fffa3fba",
        "colab": {
          "base_uri": "https://localhost:8080/",
          "height": 198
        }
      },
      "source": [
        "install.packages('keras')"
      ],
      "execution_count": 0,
      "outputs": [
        {
          "output_type": "stream",
          "text": [
            "Installing package into ‘/usr/local/lib/R/site-library’\n",
            "(as ‘lib’ is unspecified)\n",
            "\n",
            "also installing the dependencies ‘rappdirs’, ‘config’, ‘reticulate’, ‘tensorflow’, ‘tfruns’\n",
            "\n",
            "\n"
          ],
          "name": "stderr"
        },
        {
          "output_type": "error",
          "ename": "ERROR",
          "evalue": "ignored",
          "traceback": [
            "Error in install_keras(): could not find function \"install_keras\"\nTraceback:\n"
          ]
        }
      ]
    },
    {
      "cell_type": "markdown",
      "metadata": {
        "id": "vrNsmR2_c1hA",
        "colab_type": "text"
      },
      "source": [
        "With visible output:"
      ]
    },
    {
      "cell_type": "code",
      "metadata": {
        "id": "eqeQiADEQ2ba",
        "colab_type": "code",
        "outputId": "1a1f8197-cdbf-414d-e8ac-67312ff27df5",
        "colab": {
          "base_uri": "https://localhost:8080/",
          "height": 317
        }
      },
      "source": [
        "keras::install_keras()"
      ],
      "execution_count": 0,
      "outputs": [
        {
          "output_type": "stream",
          "text": [
            "Creating virtual environment '~/.virtualenvs/r-reticulate' ...\n",
            "Using python: /usr/bin/python3.6\n"
          ],
          "name": "stdout"
        },
        {
          "output_type": "error",
          "ename": "ERROR",
          "evalue": "ignored",
          "traceback": [
            "Error: Error creating virtual environment '~/.virtualenvs/r-reticulate' [error code 1]\nTraceback:\n",
            "1. keras::install_keras()",
            "2. install_tensorflow(method = method, conda = conda, version = tensorflow, \n .     extra_packages = extra_packages, pip_ignore_installed = FALSE, \n .     ...)",
            "3. reticulate::py_install(packages = c(package, extra_packages), \n .     envname = envname, method = method, conda = conda, python_version = conda_python_version, \n .     pip = TRUE, ...)",
            "4. virtualenv_install(envname = envname, packages = packages, ...)",
            "5. virtualenv_create(envname)",
            "6. stop(msg, call. = FALSE)"
          ]
        }
      ]
    },
    {
      "cell_type": "code",
      "metadata": {
        "id": "KeuJSyDxfDOQ",
        "colab_type": "code",
        "cellView": "code",
        "outputId": "67e1f79d-8615-4f57-95a0-ac0ee2056061",
        "colab": {
          "base_uri": "https://localhost:8080/",
          "height": 391
        }
      },
      "source": [
        "#@title Default title text\n",
        "library(tidyverse, warn.conflicts = FALSE)\n",
        "mtcars %>%\n",
        "  group_by(gear, vs) %>%\n",
        "  summarize(n = n())"
      ],
      "execution_count": 0,
      "outputs": [
        {
          "output_type": "stream",
          "text": [
            "── \u001b[1mAttaching packages\u001b[22m ─────────────────────────────────────── tidyverse 1.3.0 ──\n",
            "\n",
            "\u001b[32m✔\u001b[39m \u001b[34mggplot2\u001b[39m 3.2.1     \u001b[32m✔\u001b[39m \u001b[34mpurrr  \u001b[39m 0.3.3\n",
            "\u001b[32m✔\u001b[39m \u001b[34mtibble \u001b[39m 2.1.3     \u001b[32m✔\u001b[39m \u001b[34mdplyr  \u001b[39m 0.8.3\n",
            "\u001b[32m✔\u001b[39m \u001b[34mtidyr  \u001b[39m 1.0.0     \u001b[32m✔\u001b[39m \u001b[34mstringr\u001b[39m 1.4.0\n",
            "\u001b[32m✔\u001b[39m \u001b[34mreadr  \u001b[39m 1.3.1     \u001b[32m✔\u001b[39m \u001b[34mforcats\u001b[39m 0.4.0\n",
            "\n",
            "── \u001b[1mConflicts\u001b[22m ────────────────────────────────────────── tidyverse_conflicts() ──\n",
            "\u001b[31m✖\u001b[39m \u001b[34mdplyr\u001b[39m::\u001b[32mfilter()\u001b[39m masks \u001b[34mstats\u001b[39m::filter()\n",
            "\u001b[31m✖\u001b[39m \u001b[34mdplyr\u001b[39m::\u001b[32mlag()\u001b[39m    masks \u001b[34mstats\u001b[39m::lag()\n",
            "\n"
          ],
          "name": "stderr"
        },
        {
          "output_type": "display_data",
          "data": {
            "text/plain": [
              "  gear vs n \n",
              "1 3    0  12\n",
              "2 3    1   3\n",
              "3 4    0   2\n",
              "4 4    1  10\n",
              "5 5    0   4\n",
              "6 5    1   1"
            ],
            "text/latex": "A grouped\\_df: 6 × 3\n\\begin{tabular}{lll}\n gear & vs & n\\\\\n <dbl> & <dbl> & <int>\\\\\n\\hline\n\t 3 & 0 & 12\\\\\n\t 3 & 1 &  3\\\\\n\t 4 & 0 &  2\\\\\n\t 4 & 1 & 10\\\\\n\t 5 & 0 &  4\\\\\n\t 5 & 1 &  1\\\\\n\\end{tabular}\n",
            "text/markdown": "\nA grouped_df: 6 × 3\n\n| gear &lt;dbl&gt; | vs &lt;dbl&gt; | n &lt;int&gt; |\n|---|---|---|\n| 3 | 0 | 12 |\n| 3 | 1 |  3 |\n| 4 | 0 |  2 |\n| 4 | 1 | 10 |\n| 5 | 0 |  4 |\n| 5 | 1 |  1 |\n\n",
            "text/html": [
              "<table>\n",
              "<caption>A grouped_df: 6 × 3</caption>\n",
              "<thead>\n",
              "\t<tr><th scope=col>gear</th><th scope=col>vs</th><th scope=col>n</th></tr>\n",
              "\t<tr><th scope=col>&lt;dbl&gt;</th><th scope=col>&lt;dbl&gt;</th><th scope=col>&lt;int&gt;</th></tr>\n",
              "</thead>\n",
              "<tbody>\n",
              "\t<tr><td>3</td><td>0</td><td>12</td></tr>\n",
              "\t<tr><td>3</td><td>1</td><td> 3</td></tr>\n",
              "\t<tr><td>4</td><td>0</td><td> 2</td></tr>\n",
              "\t<tr><td>4</td><td>1</td><td>10</td></tr>\n",
              "\t<tr><td>5</td><td>0</td><td> 4</td></tr>\n",
              "\t<tr><td>5</td><td>1</td><td> 1</td></tr>\n",
              "</tbody>\n",
              "</table>\n"
            ]
          },
          "metadata": {
            "tags": []
          }
        }
      ]
    },
    {
      "cell_type": "code",
      "metadata": {
        "id": "sg29NifFc1hB",
        "colab_type": "code",
        "outputId": "fe132117-3ea2-4b83-89b0-619a58e2dbaf",
        "colab": {
          "base_uri": "https://localhost:8080/",
          "height": 51
        }
      },
      "source": [
        "install.packages('ggplot2')"
      ],
      "execution_count": 0,
      "outputs": [
        {
          "output_type": "stream",
          "text": [
            "Installing package into ‘/usr/local/lib/R/site-library’\n",
            "(as ‘lib’ is unspecified)\n"
          ],
          "name": "stderr"
        }
      ]
    },
    {
      "cell_type": "code",
      "metadata": {
        "id": "IgGaEZ-lekvG",
        "colab_type": "code",
        "outputId": "6f48aaa6-7526-4fdd-e6c8-c4ecd63c5151",
        "colab": {
          "base_uri": "https://localhost:8080/",
          "height": 257
        }
      },
      "source": [
        "options(repr.plot.width = 9, repr.plot.height = 4)\n",
        "library(ggplot2)\n",
        "qplot(wt, mpg, data = mtcars) +\n",
        "  labs(title = 'Scatterplot')"
      ],
      "execution_count": 0,
      "outputs": [
        {
          "output_type": "display_data",
          "data": {
            "image/png": "[encoded data removed]",
            "text/plain": [
              "plot without title"
            ]
          },
          "metadata": {
            "tags": [],
            "image/png": {
              "width": 540,
              "height": 240
            },
            "text/plain": {
              "width": 540,
              "height": 240
            }
          }
        }
      ]
    },
    {
      "cell_type": "markdown",
      "metadata": {
        "id": "lGIqtwwJc1hE",
        "colab_type": "text"
      },
      "source": [
        "Printing is captured and sent to the frontend:"
      ]
    },
    {
      "cell_type": "code",
      "metadata": {
        "id": "Y7xyddNzc1hE",
        "colab_type": "code",
        "outputId": "00e753a8-5d0a-4a09-a98f-c31924e88514",
        "colab": {
          "base_uri": "https://localhost:8080/",
          "height": 34
        }
      },
      "source": [
        "print('Hello world! Love, R in Jupyter.')"
      ],
      "execution_count": 0,
      "outputs": [
        {
          "output_type": "stream",
          "text": [
            "[1] \"Hello world! Love, R in Jupyter.\"\n"
          ],
          "name": "stdout"
        }
      ]
    },
    {
      "cell_type": "markdown",
      "metadata": {
        "id": "InWCSMdic1hG",
        "colab_type": "text"
      },
      "source": [
        "So are errors:"
      ]
    },
    {
      "cell_type": "code",
      "metadata": {
        "id": "o2kORdCMc1hH",
        "colab_type": "code",
        "colab": {}
      },
      "source": [
        "f2 <- function() stop('deep error')\n",
        "throw <- function() f2()"
      ],
      "execution_count": 0,
      "outputs": []
    },
    {
      "cell_type": "code",
      "metadata": {
        "id": "E5rjW-Qzc1hI",
        "colab_type": "code",
        "outputId": "52f391db-d1d2-4389-fb71-f0df0a94272c",
        "colab": {
          "base_uri": "https://localhost:8080/",
          "height": 181
        }
      },
      "source": [
        "'this line is run / displayed'\n",
        "throw()\n",
        "'this line is not run / displayed'"
      ],
      "execution_count": 0,
      "outputs": [
        {
          "output_type": "display_data",
          "data": {
            "text/plain": [
              "[1] \"this line is run / displayed\""
            ],
            "text/latex": "'this line is run / displayed'",
            "text/markdown": "'this line is run / displayed'",
            "text/html": [
              "'this line is run / displayed'"
            ]
          },
          "metadata": {
            "tags": []
          }
        },
        {
          "output_type": "error",
          "ename": "ERROR",
          "evalue": "ignored",
          "traceback": [
            "Error in f2(): deep error\nTraceback:\n",
            "1. throw()",
            "2. f2()   # at line 2 of file <text>",
            "3. stop(\"deep error\")   # at line 1 of file <text>"
          ]
        }
      ]
    },
    {
      "cell_type": "markdown",
      "metadata": {
        "id": "uSTtQFi7c1hK",
        "colab_type": "text"
      },
      "source": [
        "Plotting works too:"
      ]
    },
    {
      "cell_type": "code",
      "metadata": {
        "id": "M2BjXyKuc1hL",
        "colab_type": "code",
        "outputId": "29eb32d9-9d98-454b-8303-0a22f21f63ed",
        "colab": {
          "base_uri": "https://localhost:8080/",
          "height": 497
        }
      },
      "source": [
        "x <- seq(0, 2*pi, length.out=50)\n",
        "plot(x, sin(x))"
      ],
      "execution_count": 0,
      "outputs": [
        {
          "output_type": "display_data",
          "data": {
            "image/png": "[encoded data removed]",
            "text/plain": [
              "plot without title"
            ]
          },
          "metadata": {
            "tags": []
          }
        }
      ]
    }
  ]
}